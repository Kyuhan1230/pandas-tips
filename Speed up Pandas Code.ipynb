{
 "cells": [
  {
   "cell_type": "markdown",
   "metadata": {},
   "source": [
    "## Import modules"
   ]
  },
  {
   "cell_type": "code",
   "execution_count": 1,
   "metadata": {},
   "outputs": [],
   "source": [
    "import pandas as pd\n",
    "import numpy as np"
   ]
  },
  {
   "cell_type": "markdown",
   "metadata": {},
   "source": [
    "## Create Fake Datasets"
   ]
  },
  {
   "cell_type": "code",
   "execution_count": 2,
   "metadata": {},
   "outputs": [
    {
     "data": {
      "text/html": [
       "<div>\n",
       "<style scoped>\n",
       "    .dataframe tbody tr th:only-of-type {\n",
       "        vertical-align: middle;\n",
       "    }\n",
       "\n",
       "    .dataframe tbody tr th {\n",
       "        vertical-align: top;\n",
       "    }\n",
       "\n",
       "    .dataframe thead th {\n",
       "        text-align: right;\n",
       "    }\n",
       "</style>\n",
       "<table border=\"1\" class=\"dataframe\">\n",
       "  <thead>\n",
       "    <tr style=\"text-align: right;\">\n",
       "      <th></th>\n",
       "      <th>Weather</th>\n",
       "      <th>Date</th>\n",
       "      <th>Food1</th>\n",
       "      <th>Food2</th>\n",
       "      <th>Score</th>\n",
       "    </tr>\n",
       "  </thead>\n",
       "  <tbody>\n",
       "    <tr>\n",
       "      <th>0</th>\n",
       "      <td>Rainy</td>\n",
       "      <td>23</td>\n",
       "      <td>칼국수</td>\n",
       "      <td>삼겹살</td>\n",
       "      <td>0.310735</td>\n",
       "    </tr>\n",
       "    <tr>\n",
       "      <th>1</th>\n",
       "      <td>Rainy</td>\n",
       "      <td>3</td>\n",
       "      <td>칼국수</td>\n",
       "      <td>삼겹살</td>\n",
       "      <td>0.265081</td>\n",
       "    </tr>\n",
       "    <tr>\n",
       "      <th>2</th>\n",
       "      <td>Rainy</td>\n",
       "      <td>29</td>\n",
       "      <td>칼국수</td>\n",
       "      <td>돈카츠</td>\n",
       "      <td>0.296546</td>\n",
       "    </tr>\n",
       "    <tr>\n",
       "      <th>3</th>\n",
       "      <td>Sunny</td>\n",
       "      <td>27</td>\n",
       "      <td>냉면</td>\n",
       "      <td>제육볶음</td>\n",
       "      <td>0.206094</td>\n",
       "    </tr>\n",
       "    <tr>\n",
       "      <th>4</th>\n",
       "      <td>Rainy</td>\n",
       "      <td>8</td>\n",
       "      <td>칼국수</td>\n",
       "      <td>삼겹살</td>\n",
       "      <td>0.015338</td>\n",
       "    </tr>\n",
       "    <tr>\n",
       "      <th>...</th>\n",
       "      <td>...</td>\n",
       "      <td>...</td>\n",
       "      <td>...</td>\n",
       "      <td>...</td>\n",
       "      <td>...</td>\n",
       "    </tr>\n",
       "    <tr>\n",
       "      <th>4999995</th>\n",
       "      <td>Rainy</td>\n",
       "      <td>23</td>\n",
       "      <td>라면</td>\n",
       "      <td>돈카츠</td>\n",
       "      <td>0.423493</td>\n",
       "    </tr>\n",
       "    <tr>\n",
       "      <th>4999996</th>\n",
       "      <td>Rainy</td>\n",
       "      <td>28</td>\n",
       "      <td>냉면</td>\n",
       "      <td>삼겹살</td>\n",
       "      <td>0.845390</td>\n",
       "    </tr>\n",
       "    <tr>\n",
       "      <th>4999997</th>\n",
       "      <td>Rainy</td>\n",
       "      <td>19</td>\n",
       "      <td>비빔면</td>\n",
       "      <td>돈카츠</td>\n",
       "      <td>0.010088</td>\n",
       "    </tr>\n",
       "    <tr>\n",
       "      <th>4999998</th>\n",
       "      <td>Rainy</td>\n",
       "      <td>5</td>\n",
       "      <td>비빔면</td>\n",
       "      <td>삼겹살</td>\n",
       "      <td>0.229610</td>\n",
       "    </tr>\n",
       "    <tr>\n",
       "      <th>4999999</th>\n",
       "      <td>Rainy</td>\n",
       "      <td>12</td>\n",
       "      <td>칼국수</td>\n",
       "      <td>제육볶음</td>\n",
       "      <td>0.566277</td>\n",
       "    </tr>\n",
       "  </tbody>\n",
       "</table>\n",
       "<p>5000000 rows × 5 columns</p>\n",
       "</div>"
      ],
      "text/plain": [
       "        Weather  Date Food1 Food2     Score\n",
       "0         Rainy    23   칼국수   삼겹살  0.310735\n",
       "1         Rainy     3   칼국수   삼겹살  0.265081\n",
       "2         Rainy    29   칼국수   돈카츠  0.296546\n",
       "3         Sunny    27    냉면  제육볶음  0.206094\n",
       "4         Rainy     8   칼국수   삼겹살  0.015338\n",
       "...         ...   ...   ...   ...       ...\n",
       "4999995   Rainy    23    라면   돈카츠  0.423493\n",
       "4999996   Rainy    28    냉면   삼겹살  0.845390\n",
       "4999997   Rainy    19   비빔면   돈카츠  0.010088\n",
       "4999998   Rainy     5   비빔면   삼겹살  0.229610\n",
       "4999999   Rainy    12   칼국수  제육볶음  0.566277\n",
       "\n",
       "[5000000 rows x 5 columns]"
      ]
     },
     "execution_count": 2,
     "metadata": {},
     "output_type": "execute_result"
    }
   ],
   "source": [
    "def get_dataset(size):\n",
    "    \"\"\"Create Fake Dataset: Food, Color, Age, Date, Bool, Prob\n",
    "    Args:\n",
    "        size (int): Size of Fake Dataset\n",
    "\n",
    "    Returns:\n",
    "        df (pd.DataFrame): Fake Dataset\n",
    "    \"\"\"\n",
    "    df = pd.DataFrame()\n",
    "    df['Weather'] = np.random.choice(['Sunny', 'Rainy'], size)\n",
    "    df['Date'] = np.random.randint(1, 31, size)\n",
    "    df['Food1'] = np.random.choice(['냉면','칼국수','비빔면', '라면'], size)\n",
    "    df['Food2'] = np.random.choice(['삼겹살','제육볶음','돈카츠'], size)\n",
    "    df['Score'] = np.random.uniform(0.01, 1, size)\n",
    "    return df\n",
    "df = get_dataset(5_000_000)\n",
    "df"
   ]
  },
  {
   "cell_type": "markdown",
   "metadata": {},
   "source": [
    "## The Problems\n",
    "0. 날짜가 25일 이상이면 Food1(면요리)\n",
    "1. 비가 안오면서 Score가 0.5 초과이어도 Food1(면요리)\n",
    "2. 그렇지 않으면 Food2(고기먹기)"
   ]
  },
  {
   "cell_type": "code",
   "execution_count": 3,
   "metadata": {},
   "outputs": [],
   "source": [
    "def calculate_result(row):\n",
    "    if row['Date'] >= 25:\n",
    "        return row['Food1']\n",
    "    if (row['Weather']=='Sunny') & (row['Score'] > 0.5):\n",
    "        return row['Food1']\n",
    "    else:\n",
    "        return row['Food2']"
   ]
  },
  {
   "cell_type": "markdown",
   "metadata": {},
   "source": [
    "## Loop"
   ]
  },
  {
   "cell_type": "code",
   "execution_count": 4,
   "metadata": {},
   "outputs": [
    {
     "name": "stdout",
     "output_type": "stream",
     "text": [
      "3min 33s ± 35.8 s per loop (mean ± std. dev. of 7 runs, 1 loop each)\n"
     ]
    }
   ],
   "source": [
    "%%timeit\n",
    "df = get_dataset(100_000)\n",
    "for idx, row in df.iterrows():\n",
    "    df.loc[idx, 'menu'] = calculate_result(row)"
   ]
  },
  {
   "cell_type": "markdown",
   "metadata": {},
   "source": [
    "## Apply"
   ]
  },
  {
   "cell_type": "code",
   "execution_count": 5,
   "metadata": {},
   "outputs": [
    {
     "name": "stdout",
     "output_type": "stream",
     "text": [
      "1.29 s ± 247 ms per loop (mean ± std. dev. of 7 runs, 1 loop each)\n"
     ]
    }
   ],
   "source": [
    "%%timeit\n",
    "df = get_dataset(100_000)\n",
    "df['menu'] = df.apply(calculate_result, axis=1)"
   ]
  },
  {
   "cell_type": "markdown",
   "metadata": {},
   "source": [
    "## Vectorized"
   ]
  },
  {
   "cell_type": "code",
   "execution_count": 6,
   "metadata": {},
   "outputs": [
    {
     "name": "stdout",
     "output_type": "stream",
     "text": [
      "53.1 ms ± 8.84 ms per loop (mean ± std. dev. of 7 runs, 10 loops each)\n"
     ]
    }
   ],
   "source": [
    "%%timeit\n",
    "df = get_dataset(100_000)\n",
    "df['menu'] = df['Food2']\n",
    "mask = ((df['Weather']=='Sunny') & (df['Score'] > 0.5)) | (df['Date'] >= 25 )\n",
    "df.loc[mask, 'menu'] = df['Food1']"
   ]
  },
  {
   "cell_type": "markdown",
   "metadata": {},
   "source": [
    "## Plot Difference"
   ]
  },
  {
   "cell_type": "code",
   "execution_count": 14,
   "metadata": {},
   "outputs": [
    {
     "data": {
      "text/plain": [
       "<AxesSubplot:title={'center':'Time to Calculate Row'}, xlabel='Type'>"
      ]
     },
     "execution_count": 14,
     "metadata": {},
     "output_type": "execute_result"
    },
    {
     "data": {
      "image/png": "[encoded data removed]",
      "text/plain": [
       "<Figure size 432x288 with 1 Axes>"
      ]
     },
     "metadata": {
      "needs_background": "light"
     },
     "output_type": "display_data"
    }
   ],
   "source": [
    "results = pd.DataFrame(\n",
    "    [\n",
    "        [\"Loop\", 213, 35.8],\n",
    "        [\"Apply\", 1.29, 0.247],\n",
    "        [\"Vectorized\", 0.0531, 0.00884]\n",
    "    ], columns=['Type', 'Mean', \"Stdev\"]\n",
    ")\n",
    "\n",
    "results.set_index('Type')['Mean'].plot(kind='bar', title='Time to Calculate Row')"
   ]
  },
  {
   "cell_type": "markdown",
   "metadata": {},
   "source": [
    "데이터 행수가 많아 차이가 크게 보인다.\n",
    "그만큼 Loop보다 Vectorized화 시키는 게 작업을 효율적으로 하는 방법인 셈이다."
   ]
  }
 ],
 "metadata": {
  "kernelspec": {
   "display_name": "Python 3 (ipykernel)",
   "language": "python",
   "name": "python3"
  },
  "language_info": {
   "codemirror_mode": {
    "name": "ipython",
    "version": 3
   },
   "file_extension": ".py",
   "mimetype": "text/x-python",
   "name": "python",
   "nbconvert_exporter": "python",
   "pygments_lexer": "ipython3",
   "version": "3.7.2"
  }
 },
 "nbformat": 4,
 "nbformat_minor": 2
}
